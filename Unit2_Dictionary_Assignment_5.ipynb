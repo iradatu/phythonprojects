{
  "nbformat": 4,
  "nbformat_minor": 0,
  "metadata": {
    "colab": {
      "name": "Unit2_Dictionary_Assignment_5.ipynb",
      "provenance": [],
      "collapsed_sections": [],
      "include_colab_link": true
    },
    "kernelspec": {
      "name": "python3",
      "display_name": "Python 3"
    }
  },
  "cells": [
    {
      "cell_type": "markdown",
      "metadata": {
        "id": "view-in-github",
        "colab_type": "text"
      },
      "source": [
        "<a href=\"https://colab.research.google.com/github/iradatu/phythonprojects/blob/main/Unit2_Dictionary_Assignment_5.ipynb\" target=\"_parent\"><img src=\"https://colab.research.google.com/assets/colab-badge.svg\" alt=\"Open In Colab\"/></a>"
      ]
    },
    {
      "cell_type": "markdown",
      "metadata": {
        "id": "Vgs8Kp4TidFQ"
      },
      "source": [
        "# Intrdouction to Python - Dictionary - Assignment #5 "
      ]
    },
    {
      "cell_type": "markdown",
      "metadata": {
        "id": "_Hq7Ny79iwgD"
      },
      "source": [
        "## 1.\tCreate a simple dictionary that stores 2 variables, for example: first and last name."
      ]
    },
    {
      "cell_type": "code",
      "metadata": {
        "id": "lotvpVpvlKsR"
      },
      "source": [
        "cousin_1 ={'fist_name': 'Abibat', 'last_name': 'Akinyele'}"
      ],
      "execution_count": null,
      "outputs": []
    },
    {
      "cell_type": "code",
      "metadata": {
        "id": "oNXY-CfrlLbE"
      },
      "source": [
        ""
      ],
      "execution_count": null,
      "outputs": []
    },
    {
      "cell_type": "markdown",
      "metadata": {
        "id": "io_27RSlizno"
      },
      "source": [
        "## 2.\tPrint out those variables stored in your previous dictionary. "
      ]
    },
    {
      "cell_type": "code",
      "metadata": {
        "id": "Dh1o5cAylSHB",
        "outputId": "343a4400-f205-4070-9b2a-c640982c2148",
        "colab": {
          "base_uri": "https://localhost:8080/"
        }
      },
      "source": [
        "print(cousin_1['first_name'])\n",
        "print(cousin_1['last_name'])"
      ],
      "execution_count": 10,
      "outputs": [
        {
          "output_type": "stream",
          "name": "stdout",
          "text": [
            "Abibat\n",
            "Akinyele\n"
          ]
        }
      ]
    },
    {
      "cell_type": "code",
      "metadata": {
        "id": "vs8ppR-wlSKL"
      },
      "source": [
        ""
      ],
      "execution_count": null,
      "outputs": []
    },
    {
      "cell_type": "markdown",
      "metadata": {
        "id": "DAW8m8IQjRyR"
      },
      "source": [
        "## 3.\tAdd a message to those variables on printing: for example: “Hello, firstname lastname!”"
      ]
    },
    {
      "cell_type": "code",
      "metadata": {
        "id": "guULMEhrjYtT",
        "outputId": "cb95151a-7162-43e6-d2ac-e0b7a3570223",
        "colab": {
          "base_uri": "https://localhost:8080/"
        }
      },
      "source": [
        "cousin_name = cousin_1 ['first_name']\n",
        "print (\"Have a good day, \" + cousin_name)"
      ],
      "execution_count": 11,
      "outputs": [
        {
          "output_type": "stream",
          "name": "stdout",
          "text": [
            "Have a good day, Abibat\n"
          ]
        }
      ]
    },
    {
      "cell_type": "code",
      "metadata": {
        "id": "cv946RaOjw-G"
      },
      "source": [
        ""
      ],
      "execution_count": null,
      "outputs": []
    },
    {
      "cell_type": "markdown",
      "metadata": {
        "id": "dpa_YOt4jXyo"
      },
      "source": [
        "## 4.\tCreate a dictionary that holds 2 key: value pairs:\n",
        "\n",
        "a.\tLook through your dictionary and print each pair,\n"
      ]
    },
    {
      "cell_type": "code",
      "metadata": {
        "id": "pltxfnh3iJLW",
        "outputId": "a8eb6745-5f49-4f42-be6d-6b80f0d7cdef",
        "colab": {
          "base_uri": "https://localhost:8080/"
        }
      },
      "source": [
        "cousin_1 = {'favorite food': 'sushi', 'favorite drink':'margarita'}\n",
        "\n",
        "\n",
        "\n",
        "cousin_1['Amount spent'] = '00100'\n",
        "cousin_1['Last ate'] = 'Saturday'\n",
        "print(cousin_1)\n",
        "cousin_1.keys()\n",
        "cousin_1.values()\n",
        "\n",
        "x=cousin_1.items()\n",
        "cousin_1.items()\n",
        "\n",
        "print(cousin_1)\n",
        "\n",
        "cousin_1.keys()"
      ],
      "execution_count": 14,
      "outputs": [
        {
          "output_type": "stream",
          "name": "stdout",
          "text": [
            "{'favorite food': 'sushi', 'favorite drink': 'margarita', 'Amount spent': '00100', 'Last ate': 'Saturday'}\n",
            "{'favorite food': 'sushi', 'favorite drink': 'margarita', 'Amount spent': '00100', 'Last ate': 'Saturday'}\n"
          ]
        },
        {
          "output_type": "execute_result",
          "data": {
            "text/plain": [
              "dict_keys(['favorite food', 'favorite drink', 'Amount spent', 'Last ate'])"
            ]
          },
          "metadata": {},
          "execution_count": 14
        }
      ]
    },
    {
      "cell_type": "code",
      "metadata": {
        "id": "M17RfxQljvqb"
      },
      "source": [
        ""
      ],
      "execution_count": null,
      "outputs": []
    },
    {
      "cell_type": "code",
      "metadata": {
        "id": "4agTp_Cyju4-",
        "outputId": "a57aaa4e-0427-4d95-8520-6776fb83bc73",
        "colab": {
          "base_uri": "https://localhost:8080/"
        }
      },
      "source": [
        "for i in cousin_1:\n",
        "  print(i)\n",
        "  print(cousin_1[i])"
      ],
      "execution_count": 15,
      "outputs": [
        {
          "output_type": "stream",
          "name": "stdout",
          "text": [
            "favorite food\n",
            "sushi\n",
            "favorite drink\n",
            "margarita\n",
            "Amount spent\n",
            "00100\n",
            "Last ate\n",
            "Saturday\n"
          ]
        }
      ]
    }
  ]
}